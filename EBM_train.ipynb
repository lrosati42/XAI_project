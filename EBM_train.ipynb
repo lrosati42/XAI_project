{
 "cells": [
  {
   "cell_type": "code",
   "execution_count": 68,
   "metadata": {},
   "outputs": [],
   "source": [
    "import numpy as np\n",
    "import pandas as pd\n",
    "from sklearn.model_selection import train_test_split\n",
    "from sklearn.metrics import roc_auc_score\n",
    "from interpret.glassbox import ExplainableBoostingClassifier\n",
    "from interpret import show\n",
    "import joblib\n",
    "from sklearn.metrics import accuracy_score"
   ]
  },
  {
   "cell_type": "markdown",
   "metadata": {},
   "source": [
    "Uploading data\n"
   ]
  },
  {
   "cell_type": "code",
   "execution_count": 69,
   "metadata": {},
   "outputs": [],
   "source": [
    "# Train data\n",
    "x_train = np.load(\"data/processed/x_train.npy\")\n",
    "# Train labels\n",
    "x_test = np.load(\"data/processed/x_test.npy\")\n",
    "# Test data\n",
    "y_train = np.load(\"data/processed/y_train.npy\")\n",
    "# Test labels\n",
    "y_test = np.load(\"data/processed/y_test.npy\")"
   ]
  },
  {
   "cell_type": "markdown",
   "metadata": {},
   "source": [
    "Collecting feature names"
   ]
  },
  {
   "cell_type": "code",
   "execution_count": 70,
   "metadata": {},
   "outputs": [],
   "source": [
    "feature_name = {\n",
    "    \"feature_0\": \"Current Loan Amount\",\n",
    "    \"feature_1\": \"Term\", \n",
    "    \"feature_2\": \"Credit Score\", \n",
    "    \"feature_3\": \"Annual Income\", \n",
    "    \"feature_4\": \"Years in current job\", \n",
    "    \"feature_5\": \"Home Ownership\", \n",
    "    \"feature_6\": \"Purpose\", \n",
    "    \"feature_7\": \"Monthly Debt\", \n",
    "    \"feature_8\": \"Years of Credit History\", \n",
    "    \"feature_9\": \"Number of Open Accounts\", \n",
    "    \"feature_10\": \"Number of Credit Problems\", \n",
    "    \"feature_11\": \"Current Credit Balance\", \n",
    "    \"feature_12\": \"Maximum Open Credit\", \n",
    "    \"feature_13\": \"Bankruptcies\", \n",
    "    \"feature_14\": \"Tax Liens\"\n",
    "    }"
   ]
  },
  {
   "cell_type": "markdown",
   "metadata": {},
   "source": [
    "Instanciating EBM model "
   ]
  },
  {
   "cell_type": "code",
   "execution_count": 71,
   "metadata": {},
   "outputs": [],
   "source": [
    "from interpret.glassbox import ExplainableBoostingClassifier"
   ]
  },
  {
   "cell_type": "markdown",
   "metadata": {},
   "source": [
    "Transforming numpy array into dataframe for extracting name columns"
   ]
  },
  {
   "cell_type": "code",
   "execution_count": 72,
   "metadata": {},
   "outputs": [
    {
     "data": {
      "text/html": [
       "<div>\n",
       "<style scoped>\n",
       "    .dataframe tbody tr th:only-of-type {\n",
       "        vertical-align: middle;\n",
       "    }\n",
       "\n",
       "    .dataframe tbody tr th {\n",
       "        vertical-align: top;\n",
       "    }\n",
       "\n",
       "    .dataframe thead th {\n",
       "        text-align: right;\n",
       "    }\n",
       "</style>\n",
       "<table border=\"1\" class=\"dataframe\">\n",
       "  <thead>\n",
       "    <tr style=\"text-align: right;\">\n",
       "      <th></th>\n",
       "      <th>Current Loan Amount</th>\n",
       "      <th>Term</th>\n",
       "      <th>Credit Score</th>\n",
       "      <th>Annual Income</th>\n",
       "      <th>Years in current job</th>\n",
       "      <th>Home Ownership</th>\n",
       "      <th>Purpose</th>\n",
       "      <th>Monthly Debt</th>\n",
       "      <th>Years of Credit History</th>\n",
       "      <th>Number of Open Accounts</th>\n",
       "      <th>Number of Credit Problems</th>\n",
       "      <th>Current Credit Balance</th>\n",
       "      <th>Maximum Open Credit</th>\n",
       "      <th>Bankruptcies</th>\n",
       "      <th>Tax Liens</th>\n",
       "    </tr>\n",
       "  </thead>\n",
       "  <tbody>\n",
       "    <tr>\n",
       "      <th>0</th>\n",
       "      <td>86592.0</td>\n",
       "      <td>1.0</td>\n",
       "      <td>657.0</td>\n",
       "      <td>915648.0</td>\n",
       "      <td>8.0</td>\n",
       "      <td>2.0</td>\n",
       "      <td>3.0</td>\n",
       "      <td>1458.25</td>\n",
       "      <td>15.1</td>\n",
       "      <td>2.0</td>\n",
       "      <td>0.0</td>\n",
       "      <td>88274.0</td>\n",
       "      <td>118998.0</td>\n",
       "      <td>0.0</td>\n",
       "      <td>0.0</td>\n",
       "    </tr>\n",
       "    <tr>\n",
       "      <th>1</th>\n",
       "      <td>99999999.0</td>\n",
       "      <td>1.0</td>\n",
       "      <td>748.0</td>\n",
       "      <td>1065577.0</td>\n",
       "      <td>4.0</td>\n",
       "      <td>3.0</td>\n",
       "      <td>14.0</td>\n",
       "      <td>4102.48</td>\n",
       "      <td>23.0</td>\n",
       "      <td>14.0</td>\n",
       "      <td>0.0</td>\n",
       "      <td>113107.0</td>\n",
       "      <td>711722.0</td>\n",
       "      <td>0.0</td>\n",
       "      <td>0.0</td>\n",
       "    </tr>\n",
       "    <tr>\n",
       "      <th>2</th>\n",
       "      <td>376200.0</td>\n",
       "      <td>0.0</td>\n",
       "      <td>624.0</td>\n",
       "      <td>3110547.0</td>\n",
       "      <td>3.0</td>\n",
       "      <td>1.0</td>\n",
       "      <td>3.0</td>\n",
       "      <td>19269.42</td>\n",
       "      <td>22.3</td>\n",
       "      <td>14.0</td>\n",
       "      <td>0.0</td>\n",
       "      <td>366149.0</td>\n",
       "      <td>575278.0</td>\n",
       "      <td>0.0</td>\n",
       "      <td>0.0</td>\n",
       "    </tr>\n",
       "    <tr>\n",
       "      <th>3</th>\n",
       "      <td>196372.0</td>\n",
       "      <td>1.0</td>\n",
       "      <td>750.0</td>\n",
       "      <td>1747069.0</td>\n",
       "      <td>1.0</td>\n",
       "      <td>1.0</td>\n",
       "      <td>7.0</td>\n",
       "      <td>23148.65</td>\n",
       "      <td>21.6</td>\n",
       "      <td>6.0</td>\n",
       "      <td>0.0</td>\n",
       "      <td>138909.0</td>\n",
       "      <td>245564.0</td>\n",
       "      <td>0.0</td>\n",
       "      <td>0.0</td>\n",
       "    </tr>\n",
       "    <tr>\n",
       "      <th>4</th>\n",
       "      <td>220000.0</td>\n",
       "      <td>1.0</td>\n",
       "      <td>724.0</td>\n",
       "      <td>370766.0</td>\n",
       "      <td>2.0</td>\n",
       "      <td>1.0</td>\n",
       "      <td>3.0</td>\n",
       "      <td>13426.73</td>\n",
       "      <td>16.3</td>\n",
       "      <td>9.0</td>\n",
       "      <td>0.0</td>\n",
       "      <td>230793.0</td>\n",
       "      <td>543158.0</td>\n",
       "      <td>0.0</td>\n",
       "      <td>0.0</td>\n",
       "    </tr>\n",
       "    <tr>\n",
       "      <th>...</th>\n",
       "      <td>...</td>\n",
       "      <td>...</td>\n",
       "      <td>...</td>\n",
       "      <td>...</td>\n",
       "      <td>...</td>\n",
       "      <td>...</td>\n",
       "      <td>...</td>\n",
       "      <td>...</td>\n",
       "      <td>...</td>\n",
       "      <td>...</td>\n",
       "      <td>...</td>\n",
       "      <td>...</td>\n",
       "      <td>...</td>\n",
       "      <td>...</td>\n",
       "      <td>...</td>\n",
       "    </tr>\n",
       "    <tr>\n",
       "      <th>67153</th>\n",
       "      <td>553256.0</td>\n",
       "      <td>1.0</td>\n",
       "      <td>738.0</td>\n",
       "      <td>2006780.0</td>\n",
       "      <td>2.0</td>\n",
       "      <td>1.0</td>\n",
       "      <td>9.0</td>\n",
       "      <td>13729.78</td>\n",
       "      <td>22.2</td>\n",
       "      <td>12.0</td>\n",
       "      <td>0.0</td>\n",
       "      <td>43776.0</td>\n",
       "      <td>7239606.0</td>\n",
       "      <td>0.0</td>\n",
       "      <td>0.0</td>\n",
       "    </tr>\n",
       "    <tr>\n",
       "      <th>67154</th>\n",
       "      <td>435468.0</td>\n",
       "      <td>1.0</td>\n",
       "      <td>717.0</td>\n",
       "      <td>1617166.0</td>\n",
       "      <td>8.0</td>\n",
       "      <td>1.0</td>\n",
       "      <td>3.0</td>\n",
       "      <td>18597.39</td>\n",
       "      <td>20.9</td>\n",
       "      <td>12.0</td>\n",
       "      <td>0.0</td>\n",
       "      <td>254505.0</td>\n",
       "      <td>389796.0</td>\n",
       "      <td>0.0</td>\n",
       "      <td>0.0</td>\n",
       "    </tr>\n",
       "    <tr>\n",
       "      <th>67155</th>\n",
       "      <td>219472.0</td>\n",
       "      <td>1.0</td>\n",
       "      <td>708.0</td>\n",
       "      <td>336661.0</td>\n",
       "      <td>2.0</td>\n",
       "      <td>1.0</td>\n",
       "      <td>3.0</td>\n",
       "      <td>20612.91</td>\n",
       "      <td>9.4</td>\n",
       "      <td>17.0</td>\n",
       "      <td>0.0</td>\n",
       "      <td>207993.0</td>\n",
       "      <td>1007644.0</td>\n",
       "      <td>0.0</td>\n",
       "      <td>0.0</td>\n",
       "    </tr>\n",
       "    <tr>\n",
       "      <th>67156</th>\n",
       "      <td>330924.0</td>\n",
       "      <td>1.0</td>\n",
       "      <td>749.0</td>\n",
       "      <td>1318486.0</td>\n",
       "      <td>1.0</td>\n",
       "      <td>3.0</td>\n",
       "      <td>3.0</td>\n",
       "      <td>13843.97</td>\n",
       "      <td>17.4</td>\n",
       "      <td>11.0</td>\n",
       "      <td>0.0</td>\n",
       "      <td>0.0</td>\n",
       "      <td>0.0</td>\n",
       "      <td>0.0</td>\n",
       "      <td>0.0</td>\n",
       "    </tr>\n",
       "    <tr>\n",
       "      <th>67157</th>\n",
       "      <td>102014.0</td>\n",
       "      <td>1.0</td>\n",
       "      <td>664.0</td>\n",
       "      <td>324596.0</td>\n",
       "      <td>2.0</td>\n",
       "      <td>3.0</td>\n",
       "      <td>3.0</td>\n",
       "      <td>3110.68</td>\n",
       "      <td>16.1</td>\n",
       "      <td>6.0</td>\n",
       "      <td>0.0</td>\n",
       "      <td>130872.0</td>\n",
       "      <td>249238.0</td>\n",
       "      <td>0.0</td>\n",
       "      <td>0.0</td>\n",
       "    </tr>\n",
       "  </tbody>\n",
       "</table>\n",
       "<p>67158 rows × 15 columns</p>\n",
       "</div>"
      ],
      "text/plain": [
       "       Current Loan Amount  Term  Credit Score  Annual Income  \\\n",
       "0                  86592.0   1.0         657.0       915648.0   \n",
       "1               99999999.0   1.0         748.0      1065577.0   \n",
       "2                 376200.0   0.0         624.0      3110547.0   \n",
       "3                 196372.0   1.0         750.0      1747069.0   \n",
       "4                 220000.0   1.0         724.0       370766.0   \n",
       "...                    ...   ...           ...            ...   \n",
       "67153             553256.0   1.0         738.0      2006780.0   \n",
       "67154             435468.0   1.0         717.0      1617166.0   \n",
       "67155             219472.0   1.0         708.0       336661.0   \n",
       "67156             330924.0   1.0         749.0      1318486.0   \n",
       "67157             102014.0   1.0         664.0       324596.0   \n",
       "\n",
       "       Years in current job  Home Ownership  Purpose  Monthly Debt  \\\n",
       "0                       8.0             2.0      3.0       1458.25   \n",
       "1                       4.0             3.0     14.0       4102.48   \n",
       "2                       3.0             1.0      3.0      19269.42   \n",
       "3                       1.0             1.0      7.0      23148.65   \n",
       "4                       2.0             1.0      3.0      13426.73   \n",
       "...                     ...             ...      ...           ...   \n",
       "67153                   2.0             1.0      9.0      13729.78   \n",
       "67154                   8.0             1.0      3.0      18597.39   \n",
       "67155                   2.0             1.0      3.0      20612.91   \n",
       "67156                   1.0             3.0      3.0      13843.97   \n",
       "67157                   2.0             3.0      3.0       3110.68   \n",
       "\n",
       "       Years of Credit History  Number of Open Accounts  \\\n",
       "0                         15.1                      2.0   \n",
       "1                         23.0                     14.0   \n",
       "2                         22.3                     14.0   \n",
       "3                         21.6                      6.0   \n",
       "4                         16.3                      9.0   \n",
       "...                        ...                      ...   \n",
       "67153                     22.2                     12.0   \n",
       "67154                     20.9                     12.0   \n",
       "67155                      9.4                     17.0   \n",
       "67156                     17.4                     11.0   \n",
       "67157                     16.1                      6.0   \n",
       "\n",
       "       Number of Credit Problems  Current Credit Balance  Maximum Open Credit  \\\n",
       "0                            0.0                 88274.0             118998.0   \n",
       "1                            0.0                113107.0             711722.0   \n",
       "2                            0.0                366149.0             575278.0   \n",
       "3                            0.0                138909.0             245564.0   \n",
       "4                            0.0                230793.0             543158.0   \n",
       "...                          ...                     ...                  ...   \n",
       "67153                        0.0                 43776.0            7239606.0   \n",
       "67154                        0.0                254505.0             389796.0   \n",
       "67155                        0.0                207993.0            1007644.0   \n",
       "67156                        0.0                     0.0                  0.0   \n",
       "67157                        0.0                130872.0             249238.0   \n",
       "\n",
       "       Bankruptcies  Tax Liens  \n",
       "0               0.0        0.0  \n",
       "1               0.0        0.0  \n",
       "2               0.0        0.0  \n",
       "3               0.0        0.0  \n",
       "4               0.0        0.0  \n",
       "...             ...        ...  \n",
       "67153           0.0        0.0  \n",
       "67154           0.0        0.0  \n",
       "67155           0.0        0.0  \n",
       "67156           0.0        0.0  \n",
       "67157           0.0        0.0  \n",
       "\n",
       "[67158 rows x 15 columns]"
      ]
     },
     "execution_count": 72,
     "metadata": {},
     "output_type": "execute_result"
    }
   ],
   "source": [
    "x_train = pd.DataFrame(x_train, columns=feature_name.values())\n",
    "x_train"
   ]
  },
  {
   "cell_type": "markdown",
   "metadata": {},
   "source": [
    "Training EBM model\n",
    "Explainable Boosting Machine (EBM) is a tree-based, cyclic gradient boosting Generalized Additive Model with automatic interaction detection. \n",
    "EBMs are often as accurate as state-of-the-art blackbox models while remaining completely interpretable."
   ]
  },
  {
   "cell_type": "code",
   "execution_count": 73,
   "metadata": {},
   "outputs": [],
   "source": [
    "ebm = ExplainableBoostingClassifier(feature_names=list(feature_name.values()))"
   ]
  },
  {
   "cell_type": "code",
   "execution_count": 75,
   "metadata": {},
   "outputs": [
    {
     "data": {
      "text/html": [
       "<style>#sk-container-id-7 {color: black;}#sk-container-id-7 pre{padding: 0;}#sk-container-id-7 div.sk-toggleable {background-color: white;}#sk-container-id-7 label.sk-toggleable__label {cursor: pointer;display: block;width: 100%;margin-bottom: 0;padding: 0.3em;box-sizing: border-box;text-align: center;}#sk-container-id-7 label.sk-toggleable__label-arrow:before {content: \"▸\";float: left;margin-right: 0.25em;color: #696969;}#sk-container-id-7 label.sk-toggleable__label-arrow:hover:before {color: black;}#sk-container-id-7 div.sk-estimator:hover label.sk-toggleable__label-arrow:before {color: black;}#sk-container-id-7 div.sk-toggleable__content {max-height: 0;max-width: 0;overflow: hidden;text-align: left;background-color: #f0f8ff;}#sk-container-id-7 div.sk-toggleable__content pre {margin: 0.2em;color: black;border-radius: 0.25em;background-color: #f0f8ff;}#sk-container-id-7 input.sk-toggleable__control:checked~div.sk-toggleable__content {max-height: 200px;max-width: 100%;overflow: auto;}#sk-container-id-7 input.sk-toggleable__control:checked~label.sk-toggleable__label-arrow:before {content: \"▾\";}#sk-container-id-7 div.sk-estimator input.sk-toggleable__control:checked~label.sk-toggleable__label {background-color: #d4ebff;}#sk-container-id-7 div.sk-label input.sk-toggleable__control:checked~label.sk-toggleable__label {background-color: #d4ebff;}#sk-container-id-7 input.sk-hidden--visually {border: 0;clip: rect(1px 1px 1px 1px);clip: rect(1px, 1px, 1px, 1px);height: 1px;margin: -1px;overflow: hidden;padding: 0;position: absolute;width: 1px;}#sk-container-id-7 div.sk-estimator {font-family: monospace;background-color: #f0f8ff;border: 1px dotted black;border-radius: 0.25em;box-sizing: border-box;margin-bottom: 0.5em;}#sk-container-id-7 div.sk-estimator:hover {background-color: #d4ebff;}#sk-container-id-7 div.sk-parallel-item::after {content: \"\";width: 100%;border-bottom: 1px solid gray;flex-grow: 1;}#sk-container-id-7 div.sk-label:hover label.sk-toggleable__label {background-color: #d4ebff;}#sk-container-id-7 div.sk-serial::before {content: \"\";position: absolute;border-left: 1px solid gray;box-sizing: border-box;top: 0;bottom: 0;left: 50%;z-index: 0;}#sk-container-id-7 div.sk-serial {display: flex;flex-direction: column;align-items: center;background-color: white;padding-right: 0.2em;padding-left: 0.2em;position: relative;}#sk-container-id-7 div.sk-item {position: relative;z-index: 1;}#sk-container-id-7 div.sk-parallel {display: flex;align-items: stretch;justify-content: center;background-color: white;position: relative;}#sk-container-id-7 div.sk-item::before, #sk-container-id-7 div.sk-parallel-item::before {content: \"\";position: absolute;border-left: 1px solid gray;box-sizing: border-box;top: 0;bottom: 0;left: 50%;z-index: -1;}#sk-container-id-7 div.sk-parallel-item {display: flex;flex-direction: column;z-index: 1;position: relative;background-color: white;}#sk-container-id-7 div.sk-parallel-item:first-child::after {align-self: flex-end;width: 50%;}#sk-container-id-7 div.sk-parallel-item:last-child::after {align-self: flex-start;width: 50%;}#sk-container-id-7 div.sk-parallel-item:only-child::after {width: 0;}#sk-container-id-7 div.sk-dashed-wrapped {border: 1px dashed gray;margin: 0 0.4em 0.5em 0.4em;box-sizing: border-box;padding-bottom: 0.4em;background-color: white;}#sk-container-id-7 div.sk-label label {font-family: monospace;font-weight: bold;display: inline-block;line-height: 1.2em;}#sk-container-id-7 div.sk-label-container {text-align: center;}#sk-container-id-7 div.sk-container {/* jupyter's `normalize.less` sets `[hidden] { display: none; }` but bootstrap.min.css set `[hidden] { display: none !important; }` so we also need the `!important` here to be able to override the default hidden behavior on the sphinx rendered scikit-learn.org. See: https://github.com/scikit-learn/scikit-learn/issues/21755 */display: inline-block !important;position: relative;}#sk-container-id-7 div.sk-text-repr-fallback {display: none;}</style><div id=\"sk-container-id-7\" class=\"sk-top-container\"><div class=\"sk-text-repr-fallback\"><pre>ExplainableBoostingClassifier(feature_names=[&#x27;Current Loan Amount&#x27;, &#x27;Term&#x27;,\n",
       "                                             &#x27;Credit Score&#x27;, &#x27;Annual Income&#x27;,\n",
       "                                             &#x27;Years in current job&#x27;,\n",
       "                                             &#x27;Home Ownership&#x27;, &#x27;Purpose&#x27;,\n",
       "                                             &#x27;Monthly Debt&#x27;,\n",
       "                                             &#x27;Years of Credit History&#x27;,\n",
       "                                             &#x27;Number of Open Accounts&#x27;,\n",
       "                                             &#x27;Number of Credit Problems&#x27;,\n",
       "                                             &#x27;Current Credit Balance&#x27;,\n",
       "                                             &#x27;Maximum Open Credit&#x27;,\n",
       "                                             &#x27;Bankruptcies&#x27;, &#x27;Tax Liens&#x27;])</pre><b>In a Jupyter environment, please rerun this cell to show the HTML representation or trust the notebook. <br />On GitHub, the HTML representation is unable to render, please try loading this page with nbviewer.org.</b></div><div class=\"sk-container\" hidden><div class=\"sk-item\"><div class=\"sk-estimator sk-toggleable\"><input class=\"sk-toggleable__control sk-hidden--visually\" id=\"sk-estimator-id-7\" type=\"checkbox\" checked><label for=\"sk-estimator-id-7\" class=\"sk-toggleable__label sk-toggleable__label-arrow\">ExplainableBoostingClassifier</label><div class=\"sk-toggleable__content\"><pre>ExplainableBoostingClassifier(feature_names=[&#x27;Current Loan Amount&#x27;, &#x27;Term&#x27;,\n",
       "                                             &#x27;Credit Score&#x27;, &#x27;Annual Income&#x27;,\n",
       "                                             &#x27;Years in current job&#x27;,\n",
       "                                             &#x27;Home Ownership&#x27;, &#x27;Purpose&#x27;,\n",
       "                                             &#x27;Monthly Debt&#x27;,\n",
       "                                             &#x27;Years of Credit History&#x27;,\n",
       "                                             &#x27;Number of Open Accounts&#x27;,\n",
       "                                             &#x27;Number of Credit Problems&#x27;,\n",
       "                                             &#x27;Current Credit Balance&#x27;,\n",
       "                                             &#x27;Maximum Open Credit&#x27;,\n",
       "                                             &#x27;Bankruptcies&#x27;, &#x27;Tax Liens&#x27;])</pre></div></div></div></div></div>"
      ],
      "text/plain": [
       "ExplainableBoostingClassifier(feature_names=['Current Loan Amount', 'Term',\n",
       "                                             'Credit Score', 'Annual Income',\n",
       "                                             'Years in current job',\n",
       "                                             'Home Ownership', 'Purpose',\n",
       "                                             'Monthly Debt',\n",
       "                                             'Years of Credit History',\n",
       "                                             'Number of Open Accounts',\n",
       "                                             'Number of Credit Problems',\n",
       "                                             'Current Credit Balance',\n",
       "                                             'Maximum Open Credit',\n",
       "                                             'Bankruptcies', 'Tax Liens'])"
      ]
     },
     "execution_count": 75,
     "metadata": {},
     "output_type": "execute_result"
    }
   ],
   "source": [
    "ebm.fit(x_train, y_train)"
   ]
  },
  {
   "cell_type": "markdown",
   "metadata": {},
   "source": [
    "Get EBM predictions"
   ]
  },
  {
   "cell_type": "code",
   "execution_count": 76,
   "metadata": {},
   "outputs": [],
   "source": [
    "y_pred_ebm = ebm.predict(x_test)"
   ]
  },
  {
   "cell_type": "markdown",
   "metadata": {},
   "source": [
    "Calculate accuracy"
   ]
  },
  {
   "cell_type": "code",
   "execution_count": 77,
   "metadata": {},
   "outputs": [
    {
     "name": "stdout",
     "output_type": "stream",
     "text": [
      "EBM Accuracy: 0.7971053336906996\n"
     ]
    }
   ],
   "source": [
    "accuracy_ebm = accuracy_score(y_test, y_pred_ebm)\n",
    "print(f\"EBM Accuracy: {accuracy_ebm}\")"
   ]
  },
  {
   "cell_type": "markdown",
   "metadata": {},
   "source": [
    "Show global explanation"
   ]
  },
  {
   "cell_type": "code",
   "execution_count": 78,
   "metadata": {},
   "outputs": [
    {
     "data": {
      "text/html": [
       "<!-- http://127.0.0.1:7001/140602901368736/ -->\n",
       "<iframe src=\"http://127.0.0.1:7001/140602901368736/\" width=100% height=800 frameBorder=\"0\"></iframe>"
      ]
     },
     "metadata": {},
     "output_type": "display_data"
    }
   ],
   "source": [
    "show(ebm.explain_global())"
   ]
  },
  {
   "cell_type": "markdown",
   "metadata": {},
   "source": [
    "AUC provides an aggregated measurement of performance across all possible classification thresholds\n",
    "0.7 is a good result for our model "
   ]
  },
  {
   "cell_type": "code",
   "execution_count": 79,
   "metadata": {},
   "outputs": [
    {
     "name": "stdout",
     "output_type": "stream",
     "text": [
      "AUC: 0.760\n"
     ]
    }
   ],
   "source": [
    "\n",
    "auc = roc_auc_score(y_test, ebm.predict_proba(x_test)[:, 1]) \n",
    "print(\"AUC: {:.3f}\".format(auc))"
   ]
  },
  {
   "cell_type": "markdown",
   "metadata": {},
   "source": [
    "Uploading BB model"
   ]
  },
  {
   "cell_type": "code",
   "execution_count": 44,
   "metadata": {},
   "outputs": [
    {
     "name": "stderr",
     "output_type": "stream",
     "text": [
      "/Library/Frameworks/Python.framework/Versions/3.8/lib/python3.8/site-packages/sklearn/base.py:348: InconsistentVersionWarning:\n",
      "\n",
      "Trying to unpickle estimator StandardScaler from version 1.4.0 when using version 1.3.2. This might lead to breaking code or invalid results. Use at your own risk. For more info please refer to:\n",
      "https://scikit-learn.org/stable/model_persistence.html#security-maintainability-limitations\n",
      "\n",
      "/Library/Frameworks/Python.framework/Versions/3.8/lib/python3.8/site-packages/sklearn/base.py:348: InconsistentVersionWarning:\n",
      "\n",
      "Trying to unpickle estimator Pipeline from version 1.4.0 when using version 1.3.2. This might lead to breaking code or invalid results. Use at your own risk. For more info please refer to:\n",
      "https://scikit-learn.org/stable/model_persistence.html#security-maintainability-limitations\n",
      "\n"
     ]
    }
   ],
   "source": [
    "BB=joblib.load(\"xgb.joblib\")"
   ]
  },
  {
   "cell_type": "markdown",
   "metadata": {},
   "source": [
    "Making predictions with BB model and printing the accuracy"
   ]
  },
  {
   "cell_type": "code",
   "execution_count": 45,
   "metadata": {},
   "outputs": [
    {
     "name": "stdout",
     "output_type": "stream",
     "text": [
      "Accuracy: 0.797373358348968\n"
     ]
    }
   ],
   "source": [
    "y_pred = BB.predict(x_test)\n",
    "accuracy = accuracy_score(y_test, y_pred)\n",
    "print(f\"Accuracy: {accuracy}\")"
   ]
  },
  {
   "cell_type": "markdown",
   "metadata": {},
   "source": [
    "Looking at misclassified instances by the BB model with low and high confidence"
   ]
  },
  {
   "cell_type": "code",
   "execution_count": 46,
   "metadata": {},
   "outputs": [
    {
     "data": {
      "text/html": [
       "<div>\n",
       "<style scoped>\n",
       "    .dataframe tbody tr th:only-of-type {\n",
       "        vertical-align: middle;\n",
       "    }\n",
       "\n",
       "    .dataframe tbody tr th {\n",
       "        vertical-align: top;\n",
       "    }\n",
       "\n",
       "    .dataframe thead th {\n",
       "        text-align: right;\n",
       "    }\n",
       "</style>\n",
       "<table border=\"1\" class=\"dataframe\">\n",
       "  <thead>\n",
       "    <tr style=\"text-align: right;\">\n",
       "      <th></th>\n",
       "      <th>feature_0</th>\n",
       "      <th>feature_1</th>\n",
       "      <th>feature_2</th>\n",
       "      <th>feature_3</th>\n",
       "      <th>feature_4</th>\n",
       "      <th>feature_5</th>\n",
       "      <th>feature_6</th>\n",
       "      <th>feature_7</th>\n",
       "      <th>feature_8</th>\n",
       "      <th>feature_9</th>\n",
       "      <th>feature_10</th>\n",
       "      <th>feature_11</th>\n",
       "      <th>feature_12</th>\n",
       "      <th>feature_13</th>\n",
       "      <th>feature_14</th>\n",
       "    </tr>\n",
       "  </thead>\n",
       "  <tbody>\n",
       "    <tr>\n",
       "      <th>0</th>\n",
       "      <td>345422.0</td>\n",
       "      <td>1.0</td>\n",
       "      <td>741.0</td>\n",
       "      <td>3914589.0</td>\n",
       "      <td>0.0</td>\n",
       "      <td>1.0</td>\n",
       "      <td>3.0</td>\n",
       "      <td>7830.85</td>\n",
       "      <td>14.2</td>\n",
       "      <td>7.0</td>\n",
       "      <td>0.0</td>\n",
       "      <td>307097.0</td>\n",
       "      <td>494560.0</td>\n",
       "      <td>0.0</td>\n",
       "      <td>0.0</td>\n",
       "    </tr>\n",
       "    <tr>\n",
       "      <th>1</th>\n",
       "      <td>446996.0</td>\n",
       "      <td>0.0</td>\n",
       "      <td>740.0</td>\n",
       "      <td>1351147.0</td>\n",
       "      <td>1.0</td>\n",
       "      <td>1.0</td>\n",
       "      <td>3.0</td>\n",
       "      <td>25671.85</td>\n",
       "      <td>30.7</td>\n",
       "      <td>18.0</td>\n",
       "      <td>0.0</td>\n",
       "      <td>224485.0</td>\n",
       "      <td>1243682.0</td>\n",
       "      <td>0.0</td>\n",
       "      <td>0.0</td>\n",
       "    </tr>\n",
       "    <tr>\n",
       "      <th>0</th>\n",
       "      <td>215270.0</td>\n",
       "      <td>1.0</td>\n",
       "      <td>720.0</td>\n",
       "      <td>658958.0</td>\n",
       "      <td>1.0</td>\n",
       "      <td>3.0</td>\n",
       "      <td>3.0</td>\n",
       "      <td>7577.96</td>\n",
       "      <td>33.7</td>\n",
       "      <td>7.0</td>\n",
       "      <td>0.0</td>\n",
       "      <td>182438.0</td>\n",
       "      <td>318120.0</td>\n",
       "      <td>0.0</td>\n",
       "      <td>0.0</td>\n",
       "    </tr>\n",
       "    <tr>\n",
       "      <th>1</th>\n",
       "      <td>671946.0</td>\n",
       "      <td>0.0</td>\n",
       "      <td>706.0</td>\n",
       "      <td>2319216.0</td>\n",
       "      <td>7.0</td>\n",
       "      <td>3.0</td>\n",
       "      <td>3.0</td>\n",
       "      <td>38760.38</td>\n",
       "      <td>17.3</td>\n",
       "      <td>13.0</td>\n",
       "      <td>0.0</td>\n",
       "      <td>880593.0</td>\n",
       "      <td>1234442.0</td>\n",
       "      <td>0.0</td>\n",
       "      <td>0.0</td>\n",
       "    </tr>\n",
       "    <tr>\n",
       "      <th>0</th>\n",
       "      <td>99999999.0</td>\n",
       "      <td>1.0</td>\n",
       "      <td>750.0</td>\n",
       "      <td>1616292.0</td>\n",
       "      <td>2.0</td>\n",
       "      <td>1.0</td>\n",
       "      <td>5.0</td>\n",
       "      <td>15220.14</td>\n",
       "      <td>20.9</td>\n",
       "      <td>6.0</td>\n",
       "      <td>0.0</td>\n",
       "      <td>80142.0</td>\n",
       "      <td>187110.0</td>\n",
       "      <td>0.0</td>\n",
       "      <td>0.0</td>\n",
       "    </tr>\n",
       "    <tr>\n",
       "      <th>1</th>\n",
       "      <td>266684.0</td>\n",
       "      <td>1.0</td>\n",
       "      <td>748.0</td>\n",
       "      <td>2495194.0</td>\n",
       "      <td>1.0</td>\n",
       "      <td>1.0</td>\n",
       "      <td>5.0</td>\n",
       "      <td>15470.18</td>\n",
       "      <td>19.2</td>\n",
       "      <td>14.0</td>\n",
       "      <td>0.0</td>\n",
       "      <td>276184.0</td>\n",
       "      <td>1133990.0</td>\n",
       "      <td>0.0</td>\n",
       "      <td>0.0</td>\n",
       "    </tr>\n",
       "    <tr>\n",
       "      <th>0</th>\n",
       "      <td>67232.0</td>\n",
       "      <td>1.0</td>\n",
       "      <td>699.0</td>\n",
       "      <td>290301.0</td>\n",
       "      <td>10.0</td>\n",
       "      <td>3.0</td>\n",
       "      <td>3.0</td>\n",
       "      <td>1858.01</td>\n",
       "      <td>13.1</td>\n",
       "      <td>3.0</td>\n",
       "      <td>0.0</td>\n",
       "      <td>46607.0</td>\n",
       "      <td>60500.0</td>\n",
       "      <td>0.0</td>\n",
       "      <td>0.0</td>\n",
       "    </tr>\n",
       "    <tr>\n",
       "      <th>1</th>\n",
       "      <td>527164.0</td>\n",
       "      <td>1.0</td>\n",
       "      <td>742.0</td>\n",
       "      <td>1697783.0</td>\n",
       "      <td>3.0</td>\n",
       "      <td>1.0</td>\n",
       "      <td>5.0</td>\n",
       "      <td>6168.54</td>\n",
       "      <td>20.9</td>\n",
       "      <td>3.0</td>\n",
       "      <td>0.0</td>\n",
       "      <td>237842.0</td>\n",
       "      <td>483142.0</td>\n",
       "      <td>0.0</td>\n",
       "      <td>0.0</td>\n",
       "    </tr>\n",
       "    <tr>\n",
       "      <th>2</th>\n",
       "      <td>649704.0</td>\n",
       "      <td>1.0</td>\n",
       "      <td>701.0</td>\n",
       "      <td>2057396.0</td>\n",
       "      <td>1.0</td>\n",
       "      <td>3.0</td>\n",
       "      <td>3.0</td>\n",
       "      <td>27089.06</td>\n",
       "      <td>13.5</td>\n",
       "      <td>23.0</td>\n",
       "      <td>0.0</td>\n",
       "      <td>471960.0</td>\n",
       "      <td>1339426.0</td>\n",
       "      <td>0.0</td>\n",
       "      <td>0.0</td>\n",
       "    </tr>\n",
       "    <tr>\n",
       "      <th>3</th>\n",
       "      <td>99999999.0</td>\n",
       "      <td>1.0</td>\n",
       "      <td>750.0</td>\n",
       "      <td>1616292.0</td>\n",
       "      <td>2.0</td>\n",
       "      <td>1.0</td>\n",
       "      <td>5.0</td>\n",
       "      <td>15220.14</td>\n",
       "      <td>20.9</td>\n",
       "      <td>6.0</td>\n",
       "      <td>0.0</td>\n",
       "      <td>80142.0</td>\n",
       "      <td>187110.0</td>\n",
       "      <td>0.0</td>\n",
       "      <td>0.0</td>\n",
       "    </tr>\n",
       "  </tbody>\n",
       "</table>\n",
       "</div>"
      ],
      "text/plain": [
       "    feature_0  feature_1  feature_2  feature_3  feature_4  feature_5  \\\n",
       "0    345422.0        1.0      741.0  3914589.0        0.0        1.0   \n",
       "1    446996.0        0.0      740.0  1351147.0        1.0        1.0   \n",
       "0    215270.0        1.0      720.0   658958.0        1.0        3.0   \n",
       "1    671946.0        0.0      706.0  2319216.0        7.0        3.0   \n",
       "0  99999999.0        1.0      750.0  1616292.0        2.0        1.0   \n",
       "1    266684.0        1.0      748.0  2495194.0        1.0        1.0   \n",
       "0     67232.0        1.0      699.0   290301.0       10.0        3.0   \n",
       "1    527164.0        1.0      742.0  1697783.0        3.0        1.0   \n",
       "2    649704.0        1.0      701.0  2057396.0        1.0        3.0   \n",
       "3  99999999.0        1.0      750.0  1616292.0        2.0        1.0   \n",
       "\n",
       "   feature_6  feature_7  feature_8  feature_9  feature_10  feature_11  \\\n",
       "0        3.0    7830.85       14.2        7.0         0.0    307097.0   \n",
       "1        3.0   25671.85       30.7       18.0         0.0    224485.0   \n",
       "0        3.0    7577.96       33.7        7.0         0.0    182438.0   \n",
       "1        3.0   38760.38       17.3       13.0         0.0    880593.0   \n",
       "0        5.0   15220.14       20.9        6.0         0.0     80142.0   \n",
       "1        5.0   15470.18       19.2       14.0         0.0    276184.0   \n",
       "0        3.0    1858.01       13.1        3.0         0.0     46607.0   \n",
       "1        5.0    6168.54       20.9        3.0         0.0    237842.0   \n",
       "2        3.0   27089.06       13.5       23.0         0.0    471960.0   \n",
       "3        5.0   15220.14       20.9        6.0         0.0     80142.0   \n",
       "\n",
       "   feature_12  feature_13  feature_14  \n",
       "0    494560.0         0.0         0.0  \n",
       "1   1243682.0         0.0         0.0  \n",
       "0    318120.0         0.0         0.0  \n",
       "1   1234442.0         0.0         0.0  \n",
       "0    187110.0         0.0         0.0  \n",
       "1   1133990.0         0.0         0.0  \n",
       "0     60500.0         0.0         0.0  \n",
       "1    483142.0         0.0         0.0  \n",
       "2   1339426.0         0.0         0.0  \n",
       "3    187110.0         0.0         0.0  "
      ]
     },
     "execution_count": 46,
     "metadata": {},
     "output_type": "execute_result"
    }
   ],
   "source": [
    "# 1. Misclassified Instances\n",
    "misclassified_indices = y_test != y_pred\n",
    "misclassified_instances = pd.DataFrame(x_test[misclassified_indices][:2], columns=[f'feature_{i}' for i in range(x_test.shape[1])])\n",
    "\n",
    "# 2. Low Confidence Predictions\n",
    "proba = BB.predict_proba(x_test)\n",
    "low_confidence_indices = (proba.max(axis=1) < 0.7) & misclassified_indices\n",
    "low_confidence_instances = pd.DataFrame(x_test[low_confidence_indices][:2], columns=[f'feature_{i}' for i in range(x_test.shape[1])])\n",
    "\n",
    "# 3. High Confidence Predictions\n",
    "high_confidence_indices = (proba.max(axis=1) > 0.9) & (~misclassified_indices)\n",
    "high_confidence_instances = pd.DataFrame(x_test[high_confidence_indices][:2], columns=[f'feature_{i}' for i in range(x_test.shape[1])])\n",
    "\n",
    "# 4. Randomly Sample Remaining Instances\n",
    "correctly_classified_indices = ~misclassified_indices\n",
    "correctly_classified_instances = pd.DataFrame(x_test[correctly_classified_indices][:4], columns=[f'feature_{i}' for i in range(x_test.shape[1])])\n",
    " \n",
    "# 5. Combine and Inspect\n",
    "selected_instances = pd.concat([\n",
    "    misclassified_instances,\n",
    "    low_confidence_instances,\n",
    "    high_confidence_instances,\n",
    "    correctly_classified_instances\n",
    "])\n",
    "\n",
    "selected_instances"
   ]
  },
  {
   "cell_type": "code",
   "execution_count": 50,
   "metadata": {},
   "outputs": [],
   "source": [
    "selected_instances.rename(columns=feature_name, inplace=True)\n",
    "selected_instances.set_index(np.arange(selected_instances.shape[0]), inplace=True)"
   ]
  },
  {
   "cell_type": "markdown",
   "metadata": {},
   "source": [
    "Local explanations taking into account the 10 instances "
   ]
  },
  {
   "cell_type": "code",
   "execution_count": 80,
   "metadata": {},
   "outputs": [
    {
     "name": "stdout",
     "output_type": "stream",
     "text": [
      "Instance 0:\n"
     ]
    },
    {
     "data": {
      "text/html": [
       "<!-- http://127.0.0.1:7001/140604229179712/ -->\n",
       "<iframe src=\"http://127.0.0.1:7001/140604229179712/\" width=100% height=800 frameBorder=\"0\"></iframe>"
      ]
     },
     "metadata": {},
     "output_type": "display_data"
    },
    {
     "name": "stdout",
     "output_type": "stream",
     "text": [
      "Instance 1:\n"
     ]
    },
    {
     "data": {
      "text/html": [
       "<!-- http://127.0.0.1:7001/140604232913728/ -->\n",
       "<iframe src=\"http://127.0.0.1:7001/140604232913728/\" width=100% height=800 frameBorder=\"0\"></iframe>"
      ]
     },
     "metadata": {},
     "output_type": "display_data"
    },
    {
     "name": "stdout",
     "output_type": "stream",
     "text": [
      "Instance 2:\n"
     ]
    },
    {
     "data": {
      "text/html": [
       "<!-- http://127.0.0.1:7001/140603989305952/ -->\n",
       "<iframe src=\"http://127.0.0.1:7001/140603989305952/\" width=100% height=800 frameBorder=\"0\"></iframe>"
      ]
     },
     "metadata": {},
     "output_type": "display_data"
    },
    {
     "name": "stdout",
     "output_type": "stream",
     "text": [
      "Instance 3:\n"
     ]
    },
    {
     "data": {
      "text/html": [
       "<!-- http://127.0.0.1:7001/140603989437984/ -->\n",
       "<iframe src=\"http://127.0.0.1:7001/140603989437984/\" width=100% height=800 frameBorder=\"0\"></iframe>"
      ]
     },
     "metadata": {},
     "output_type": "display_data"
    },
    {
     "name": "stdout",
     "output_type": "stream",
     "text": [
      "Instance 4:\n"
     ]
    },
    {
     "data": {
      "text/html": [
       "<!-- http://127.0.0.1:7001/140603432681536/ -->\n",
       "<iframe src=\"http://127.0.0.1:7001/140603432681536/\" width=100% height=800 frameBorder=\"0\"></iframe>"
      ]
     },
     "metadata": {},
     "output_type": "display_data"
    },
    {
     "name": "stdout",
     "output_type": "stream",
     "text": [
      "Instance 5:\n"
     ]
    },
    {
     "data": {
      "text/html": [
       "<!-- http://127.0.0.1:7001/140603438371984/ -->\n",
       "<iframe src=\"http://127.0.0.1:7001/140603438371984/\" width=100% height=800 frameBorder=\"0\"></iframe>"
      ]
     },
     "metadata": {},
     "output_type": "display_data"
    },
    {
     "name": "stdout",
     "output_type": "stream",
     "text": [
      "Instance 6:\n"
     ]
    },
    {
     "data": {
      "text/html": [
       "<!-- http://127.0.0.1:7001/140603432685472/ -->\n",
       "<iframe src=\"http://127.0.0.1:7001/140603432685472/\" width=100% height=800 frameBorder=\"0\"></iframe>"
      ]
     },
     "metadata": {},
     "output_type": "display_data"
    },
    {
     "name": "stdout",
     "output_type": "stream",
     "text": [
      "Instance 7:\n"
     ]
    },
    {
     "data": {
      "text/html": [
       "<!-- http://127.0.0.1:7001/140603432824304/ -->\n",
       "<iframe src=\"http://127.0.0.1:7001/140603432824304/\" width=100% height=800 frameBorder=\"0\"></iframe>"
      ]
     },
     "metadata": {},
     "output_type": "display_data"
    },
    {
     "name": "stdout",
     "output_type": "stream",
     "text": [
      "Instance 8:\n"
     ]
    },
    {
     "data": {
      "text/html": [
       "<!-- http://127.0.0.1:7001/140603989766880/ -->\n",
       "<iframe src=\"http://127.0.0.1:7001/140603989766880/\" width=100% height=800 frameBorder=\"0\"></iframe>"
      ]
     },
     "metadata": {},
     "output_type": "display_data"
    },
    {
     "name": "stdout",
     "output_type": "stream",
     "text": [
      "Instance 9:\n"
     ]
    },
    {
     "data": {
      "text/html": [
       "<!-- http://127.0.0.1:7001/140603989866048/ -->\n",
       "<iframe src=\"http://127.0.0.1:7001/140603989866048/\" width=100% height=800 frameBorder=\"0\"></iframe>"
      ]
     },
     "metadata": {},
     "output_type": "display_data"
    }
   ],
   "source": [
    "\n",
    "for idx, instance in selected_instances.iterrows():\n",
    "    print(f\"Instance {idx}:\")\n",
    "    \n",
    "   \n",
    "    instance_df = pd.DataFrame([instance], columns=selected_instances.columns)\n",
    "    \n",
    "    exp = ebm.explain_local(instance_df)\n",
    "    \n",
    "    \n",
    "    show(exp)\n",
    "    \n",
    "   \n",
    "    \n",
    "\n",
    "\n"
   ]
  }
 ],
 "metadata": {
  "kernelspec": {
   "display_name": "Python 3",
   "language": "python",
   "name": "python3"
  },
  "language_info": {
   "codemirror_mode": {
    "name": "ipython",
    "version": 3
   },
   "file_extension": ".py",
   "mimetype": "text/x-python",
   "name": "python",
   "nbconvert_exporter": "python",
   "pygments_lexer": "ipython3",
   "version": "3.8.8rc1"
  }
 },
 "nbformat": 4,
 "nbformat_minor": 2
}
