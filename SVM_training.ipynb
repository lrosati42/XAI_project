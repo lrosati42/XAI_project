{
 "cells": [
  {
   "cell_type": "code",
   "execution_count": 5,
   "metadata": {},
   "outputs": [],
   "source": [
    "import numpy as np\n",
    "import pandas as pd\n",
    "from sklearn.metrics import classification_report\n",
    "from sklearn.svm import SVC\n",
    "from sklearn.preprocessing import StandardScaler\n",
    "from sklearn.pipeline import Pipeline\n",
    "from sklearn.metrics import accuracy_score\n"
   ]
  },
  {
   "cell_type": "code",
   "execution_count": 6,
   "metadata": {},
   "outputs": [],
   "source": [
    "\n",
    "x_train= np.load(\"x_train.npy\")\n",
    "y_train= np.load(\"y_train.npy\")\n",
    "x_test=np.load(\"x_test.npy\")\n",
    "y_test=np.load(\"y_test.npy\")\n",
    "\n",
    " "
   ]
  },
  {
   "cell_type": "code",
   "execution_count": 7,
   "metadata": {},
   "outputs": [
    {
     "name": "stdout",
     "output_type": "stream",
     "text": [
      "Accuracy: 0.7966586259269186\n",
      "              precision    recall  f1-score   support\n",
      "\n",
      "           0       0.85      0.22      0.35      5579\n",
      "           1       0.79      0.99      0.88     16807\n",
      "\n",
      "    accuracy                           0.80     22386\n",
      "   macro avg       0.82      0.60      0.62     22386\n",
      "weighted avg       0.81      0.80      0.75     22386\n",
      "\n"
     ]
    }
   ],
   "source": [
    "pipeline_linear = Pipeline([\n",
    "    ('scaler', StandardScaler()), \n",
    "    ('classifier', SVC(kernel=\"linear\"))\n",
    "])\n",
    "\n",
    "pipeline_linear.fit(x_train, y_train)\n",
    "\n",
    "y_pred = pipeline_linear.predict(x_test)\n",
    "\n",
    "accuracy = accuracy_score(y_test, y_pred)\n",
    "print(f\"Accuracy: {accuracy}\")\n",
    "print(classification_report(y_test, y_pred))"
   ]
  },
  {
   "cell_type": "code",
   "execution_count": 17,
   "metadata": {},
   "outputs": [
    {
     "name": "stdout",
     "output_type": "stream",
     "text": [
      "Accuracy: 0.79639060126865\n",
      "              precision    recall  f1-score   support\n",
      "\n",
      "           0       0.85      0.22      0.35      5579\n",
      "           1       0.79      0.99      0.88     16807\n",
      "\n",
      "    accuracy                           0.80     22386\n",
      "   macro avg       0.82      0.60      0.61     22386\n",
      "weighted avg       0.81      0.80      0.75     22386\n",
      "\n"
     ]
    }
   ],
   "source": [
    "pipeline_rbf = Pipeline([\n",
    "    ('scaler', StandardScaler()), \n",
    "    ('classifier', SVC(kernel=\"rbf\"))\n",
    "])\n",
    "\n",
    "pipeline_rbf.fit(x_train, y_train)\n",
    "\n",
    "y_pred = pipeline_rbf.predict(x_test)\n",
    "accuracy = accuracy_score(y_test, y_pred)\n",
    "print(f\"Accuracy: {accuracy}\")\n",
    "\n",
    "print(classification_report(y_test, y_pred))   #rbf (radial basis function) works well with non linear data, usefull with outliers "
   ]
  }
 ],
 "metadata": {
  "kernelspec": {
   "display_name": "Python 3",
   "language": "python",
   "name": "python3"
  },
  "language_info": {
   "codemirror_mode": {
    "name": "ipython",
    "version": 3
   },
   "file_extension": ".py",
   "mimetype": "text/x-python",
   "name": "python",
   "nbconvert_exporter": "python",
   "pygments_lexer": "ipython3",
   "version": "3.8.8rc1"
  }
 },
 "nbformat": 4,
 "nbformat_minor": 2
}
